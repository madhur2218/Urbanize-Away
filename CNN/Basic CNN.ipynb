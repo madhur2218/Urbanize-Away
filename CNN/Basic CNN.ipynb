{
 "cells": [
  {
   "cell_type": "code",
   "execution_count": 1,
   "id": "30e90a91-1eab-4061-811f-55cf97cceee8",
   "metadata": {},
   "outputs": [],
   "source": [
    "import tensorflow as tf\n",
    "from tensorflow.keras import models, layers\n",
    "import matplotlib.pyplot as plt"
   ]
  },
  {
   "cell_type": "code",
   "execution_count": 7,
   "id": "4e1fa5ac-cfbd-4d74-ae5d-510ec3635e40",
   "metadata": {},
   "outputs": [],
   "source": [
    "#import splitfolders"
   ]
  },
  {
   "cell_type": "raw",
   "id": "6ca1e621-67bd-4129-a3de-74625a298afb",
   "metadata": {},
   "source": []
  },
  {
   "cell_type": "code",
   "execution_count": 36,
   "id": "b932e3a4-1e80-4ae5-84cb-01dcd8314c83",
   "metadata": {},
   "outputs": [],
   "source": [
    "#input_folders= r\"C:\\Users\\madhu\\Desktop\\Skin burn project\\dataset\""
   ]
  },
  {
   "cell_type": "code",
   "execution_count": 37,
   "id": "ea767e5d-0ef2-4d22-b2d3-87e54e718683",
   "metadata": {},
   "outputs": [
    {
     "data": {
      "text/plain": [
       "'C:\\\\Users\\\\madhu\\\\Desktop\\\\Skin burn project\\\\dataset'"
      ]
     },
     "execution_count": 37,
     "metadata": {},
     "output_type": "execute_result"
    }
   ],
   "source": [
    "#input_folders"
   ]
  },
  {
   "cell_type": "code",
   "execution_count": 38,
   "id": "dae4fb19-4b59-4111-9cd6-f809ecb3daff",
   "metadata": {},
   "outputs": [
    {
     "name": "stderr",
     "output_type": "stream",
     "text": [
      "Copying files: 1240 files [00:02, 464.81 files/s]\n"
     ]
    }
   ],
   "source": [
    "#splitfolders.ratio(input_folders,output='dataset1',seed=42,ratio=(.8,.1,.1), group_prefix=None)"
   ]
  },
  {
   "cell_type": "code",
   "execution_count": 2,
   "id": "711ccc43-a7c3-4c65-9942-a15cdd1b533f",
   "metadata": {},
   "outputs": [],
   "source": [
    "IMAGE_SIZE = 224\n",
    "CHANNELS = 3"
   ]
  },
  {
   "cell_type": "code",
   "execution_count": 25,
   "id": "db4b08dd-3a27-4963-af7a-4ceb7fc9140d",
   "metadata": {},
   "outputs": [
    {
     "name": "stdout",
     "output_type": "stream",
     "text": [
      "Found 1240 files belonging to 3 classes.\n"
     ]
    }
   ],
   "source": [
    "dataset = tf.keras.preprocessing.image_dataset_from_directory(\n",
    "    r\"C:\\Users\\madhu\\Desktop\\Skin burn project\\dataset1\",\n",
    "    seed=123,\n",
    "    shuffle=True,\n",
    "    image_size=(IMAGE_SIZE,IMAGE_SIZE),\n",
    "    batch_size=32\n",
    ")"
   ]
  },
  {
   "cell_type": "code",
   "execution_count": 26,
   "id": "bd92eeb2-a957-4fff-a987-0430cbaf1ec2",
   "metadata": {},
   "outputs": [
    {
     "name": "stdout",
     "output_type": "stream",
     "text": [
      "(32, 224, 224, 3)\n",
      "[1 1 1 1 1 1 0 1 1 1 0 1 1 1 1 1 1 1 1 2 1 1 1 1 1 1 1 1 1 1 1 1]\n"
     ]
    }
   ],
   "source": [
    "for image_batch, labels_batch in dataset.take(1):\n",
    "    print(image_batch.shape)\n",
    "    print(labels_batch.numpy())"
   ]
  },
  {
   "cell_type": "code",
   "execution_count": null,
   "id": "97f022d9-4b3c-4be0-832b-11ddd3ac622c",
   "metadata": {},
   "outputs": [],
   "source": []
  },
  {
   "cell_type": "code",
   "execution_count": 3,
   "id": "609302b5-00bf-4e71-b035-6c45380b1679",
   "metadata": {},
   "outputs": [
    {
     "name": "stdout",
     "output_type": "stream",
     "text": [
      "Found 991 images belonging to 3 classes.\n"
     ]
    }
   ],
   "source": [
    "from tensorflow.keras.preprocessing.image import ImageDataGenerator\n",
    "\n",
    "train_datagen = ImageDataGenerator(\n",
    "        rescale=1./255,\n",
    "        rotation_range=20,\n",
    "        horizontal_flip=True\n",
    ")\n",
    "train_generator = train_datagen.flow_from_directory(\n",
    "        r'C:\\Users\\madhu\\Desktop\\Skin burn project\\dataset1\\train',\n",
    "        target_size=(IMAGE_SIZE,IMAGE_SIZE),\n",
    "        batch_size=32,\n",
    "        class_mode=\"sparse\",\n",
    "#         save_to_dir=\"C:\\\\Code\\\\potato-disease-classification\\\\training\\\\AugmentedImages\"\n",
    ")"
   ]
  },
  {
   "cell_type": "code",
   "execution_count": 4,
   "id": "fa31bd05-8199-4ecf-9baf-44cab6bc04ba",
   "metadata": {},
   "outputs": [
    {
     "data": {
      "text/plain": [
       "{'Degree1': 0, 'Degree2': 1, 'Degree3': 2}"
      ]
     },
     "execution_count": 4,
     "metadata": {},
     "output_type": "execute_result"
    }
   ],
   "source": [
    "train_generator.class_indices"
   ]
  },
  {
   "cell_type": "code",
   "execution_count": 5,
   "id": "c4417451-73c4-40f8-b679-063baca33f67",
   "metadata": {},
   "outputs": [
    {
     "data": {
      "text/plain": [
       "['Degree1', 'Degree2', 'Degree3']"
      ]
     },
     "execution_count": 5,
     "metadata": {},
     "output_type": "execute_result"
    }
   ],
   "source": [
    "class_names = list(train_generator.class_indices.keys())\n",
    "class_names"
   ]
  },
  {
   "cell_type": "code",
   "execution_count": 28,
   "id": "932e46d1-da95-420e-8a87-87dbb5e0b72b",
   "metadata": {},
   "outputs": [
    {
     "ename": "SyntaxError",
     "evalue": "invalid syntax (3728772571.py, line 1)",
     "output_type": "error",
     "traceback": [
      "\u001b[1;36m  Input \u001b[1;32mIn [28]\u001b[1;36m\u001b[0m\n\u001b[1;33m    for image_batch, labels_batch in .take(1):\u001b[0m\n\u001b[1;37m                                     ^\u001b[0m\n\u001b[1;31mSyntaxError\u001b[0m\u001b[1;31m:\u001b[0m invalid syntax\n"
     ]
    }
   ],
   "source": [
    "for image_batch, labels_batch in .take(1):\n",
    "    print(image_batch.shape)\n",
    "    print(labels_batch.numpy())"
   ]
  },
  {
   "cell_type": "code",
   "execution_count": 6,
   "id": "7c65e0c2-72b4-40fd-81f8-db2e500480c1",
   "metadata": {},
   "outputs": [
    {
     "name": "stdout",
     "output_type": "stream",
     "text": [
      "[[[0.89574975 0.5702595  0.53888696]\n",
      "  [0.896443   0.57095283 0.5395802 ]\n",
      "  [0.8971363  0.57164603 0.5402735 ]\n",
      "  ...\n",
      "  [0.1563281  0.36024967 0.5955438 ]\n",
      "  [0.18032947 0.38425103 0.61954516]\n",
      "  [0.20211938 0.40604094 0.64133507]]\n",
      "\n",
      " [[0.89019614 0.5647059  0.53333336]\n",
      "  [0.89019614 0.5647059  0.53333336]\n",
      "  [0.89019614 0.5647059  0.53333336]\n",
      "  ...\n",
      "  [0.15771462 0.3616362  0.5969303 ]\n",
      "  [0.18275586 0.38667744 0.62197155]\n",
      "  [0.20385252 0.40777412 0.64306825]]\n",
      "\n",
      " [[0.88462585 0.5580216  0.5244209 ]\n",
      "  [0.886359   0.56010133 0.52719396]\n",
      "  [0.88809216 0.5621811  0.52996695]\n",
      "  ...\n",
      "  [0.15910113 0.3630227  0.59831685]\n",
      "  [0.18518226 0.38910383 0.62439793]\n",
      "  [0.20558566 0.40950724 0.6448014 ]]\n",
      "\n",
      " ...\n",
      "\n",
      " [[0.16862746 0.2901961  0.5058824 ]\n",
      "  [0.16906361 0.29063225 0.50631857]\n",
      "  [0.17296983 0.29453847 0.51022476]\n",
      "  ...\n",
      "  [0.13235737 0.12409344 0.21331355]\n",
      "  [0.13478376 0.1261732  0.2178197 ]\n",
      "  [0.13721016 0.12825297 0.22232586]]\n",
      "\n",
      " [[0.16862746 0.2901961  0.5058824 ]\n",
      "  [0.16941024 0.29097888 0.50666517]\n",
      "  [0.17331646 0.2948851  0.51057136]\n",
      "  ...\n",
      "  [0.12941177 0.12156864 0.20784315]\n",
      "  [0.12941177 0.12156864 0.20784315]\n",
      "  [0.12941177 0.12156864 0.20784315]]\n",
      "\n",
      " [[0.16862746 0.2901961  0.5058824 ]\n",
      "  [0.16975686 0.2913255  0.5070118 ]\n",
      "  [0.17366308 0.2952317  0.510918  ]\n",
      "  ...\n",
      "  [0.11900156 0.12850878 0.20437308]\n",
      "  [0.12004144 0.12781553 0.2047197 ]\n",
      "  [0.12108132 0.12712227 0.20506634]]]\n"
     ]
    }
   ],
   "source": [
    "count=0\n",
    "for image_batch, label_batch in train_generator:\n",
    "#     print(label_batch)\n",
    "    print(image_batch[0])\n",
    "    break\n",
    "#     count+=1\n",
    "#     if count>2:\n",
    "#         break"
   ]
  },
  {
   "cell_type": "code",
   "execution_count": 7,
   "id": "ce75d627-3786-43c3-9595-e9edb0adc4d0",
   "metadata": {},
   "outputs": [
    {
     "name": "stdout",
     "output_type": "stream",
     "text": [
      "Found 123 images belonging to 3 classes.\n"
     ]
    }
   ],
   "source": [
    "validation_datagen = ImageDataGenerator(\n",
    "        rescale=1./255,\n",
    "        rotation_range=10,\n",
    "        horizontal_flip=True)\n",
    "validation_generator = validation_datagen.flow_from_directory(\n",
    "        r'C:\\Users\\madhu\\Desktop\\Skin burn project\\dataset1\\val',\n",
    "        target_size=(IMAGE_SIZE,IMAGE_SIZE),\n",
    "        batch_size=32,\n",
    "        class_mode=\"sparse\"\n",
    ")"
   ]
  },
  {
   "cell_type": "code",
   "execution_count": 8,
   "id": "a800591c-73f0-49f9-a1c0-f9da8f622d2c",
   "metadata": {},
   "outputs": [
    {
     "name": "stdout",
     "output_type": "stream",
     "text": [
      "Found 126 images belonging to 3 classes.\n"
     ]
    }
   ],
   "source": [
    "test_datagen = ImageDataGenerator(\n",
    "        rescale=1./255,\n",
    "        rotation_range=10,\n",
    "        horizontal_flip=True)\n",
    "\n",
    "test_generator = test_datagen.flow_from_directory(\n",
    "        r'C:\\Users\\madhu\\Desktop\\Skin burn project\\dataset1\\test',\n",
    "        target_size=(IMAGE_SIZE,IMAGE_SIZE),\n",
    "        batch_size=32,\n",
    "        class_mode=\"sparse\"\n",
    ")"
   ]
  },
  {
   "cell_type": "code",
   "execution_count": 9,
   "id": "efffaab5-4988-4717-8d07-bfbe9c702a2e",
   "metadata": {},
   "outputs": [
    {
     "name": "stdout",
     "output_type": "stream",
     "text": [
      "[[[0.01960784 0.01960784 0.02745098]\n",
      "  [0.01960784 0.01960784 0.02745098]\n",
      "  [0.01960784 0.01960784 0.02745098]\n",
      "  ...\n",
      "  [0.131643   0.11595672 0.06889789]\n",
      "  [0.1492895  0.13360323 0.0865444 ]\n",
      "  [0.18133841 0.16565214 0.11859331]]\n",
      "\n",
      " [[0.01960784 0.01960784 0.02745098]\n",
      "  [0.01960784 0.01960784 0.02745098]\n",
      "  [0.01960784 0.01960784 0.02745098]\n",
      "  ...\n",
      "  [0.13112868 0.1154424  0.06838357]\n",
      "  [0.15546125 0.13977498 0.09271614]\n",
      "  [0.18288136 0.16719508 0.12013625]]\n",
      "\n",
      " [[0.01960784 0.01960784 0.02745098]\n",
      "  [0.01960784 0.01960784 0.02745098]\n",
      "  [0.01960784 0.01960784 0.02745098]\n",
      "  ...\n",
      "  [0.13061437 0.11492809 0.06786927]\n",
      "  [0.16163298 0.14594671 0.09888788]\n",
      "  [0.18442428 0.16873801 0.12167919]]\n",
      "\n",
      " ...\n",
      "\n",
      " [[0.29444933 0.22098875 0.11107427]\n",
      "  [0.24833183 0.2033216  0.11867137]\n",
      "  [0.18556885 0.16925503 0.13903254]\n",
      "  ...\n",
      "  [0.20209143 0.18640515 0.15111102]\n",
      "  [0.20466298 0.1889767  0.15368259]\n",
      "  [0.20723453 0.19154826 0.15625414]]\n",
      "\n",
      " [[0.28982052 0.21996012 0.11158857]\n",
      "  [0.23907422 0.19817849 0.12072862]\n",
      "  [0.17939714 0.16616915 0.14314704]\n",
      "  ...\n",
      "  [0.18533804 0.16965176 0.13435765]\n",
      "  [0.18739527 0.171709   0.13641489]\n",
      "  [0.18945254 0.17376626 0.13847214]]\n",
      "\n",
      " [[0.28519168 0.2189315  0.11210289]\n",
      "  [0.22981662 0.19303538 0.12278586]\n",
      "  [0.17322539 0.16308329 0.14726152]\n",
      "  ...\n",
      "  [0.17774093 0.16205466 0.12676054]\n",
      "  [0.17825525 0.16256897 0.12727486]\n",
      "  [0.17876956 0.16308329 0.12778917]]]\n"
     ]
    }
   ],
   "source": [
    "for image_batch, label_batch in test_generator:\n",
    "    print(image_batch[0])\n",
    "    break"
   ]
  },
  {
   "cell_type": "code",
   "execution_count": 10,
   "id": "68e5979d-6386-43d7-9ecb-8287abc4edce",
   "metadata": {},
   "outputs": [],
   "source": [
    "input_shape = (IMAGE_SIZE, IMAGE_SIZE, CHANNELS)\n",
    "n_classes = 3\n",
    "\n",
    "model = models.Sequential([\n",
    "    layers.InputLayer(input_shape=input_shape),\n",
    "    layers.Conv2D(32, kernel_size = (3,3), activation='relu'),\n",
    "    layers.MaxPooling2D((2, 2)),\n",
    "    layers.Conv2D(64,  kernel_size = (3,3), activation='relu'),\n",
    "    layers.MaxPooling2D((2, 2)),\n",
    "    layers.Conv2D(64,  kernel_size = (3,3), activation='relu'),\n",
    "    layers.MaxPooling2D((2, 2)),\n",
    "    layers.Conv2D(64, (3, 3), activation='relu'),\n",
    "    layers.MaxPooling2D((2, 2)),\n",
    "    layers.Conv2D(64, (3, 3), activation='relu'),\n",
    "    layers.MaxPooling2D((2, 2)),\n",
    "    layers.Conv2D(64, (3, 3), activation='relu'),\n",
    "    layers.MaxPooling2D((2, 2)),\n",
    "    layers.Flatten(),\n",
    "    layers.Dense(64, activation='relu'),\n",
    "    layers.Dense(n_classes, activation='softmax'),\n",
    "])"
   ]
  },
  {
   "cell_type": "code",
   "execution_count": 11,
   "id": "d137035d-be34-49df-97a4-2d41816ae608",
   "metadata": {},
   "outputs": [
    {
     "name": "stdout",
     "output_type": "stream",
     "text": [
      "Model: \"sequential\"\n",
      "_________________________________________________________________\n",
      " Layer (type)                Output Shape              Param #   \n",
      "=================================================================\n",
      " conv2d (Conv2D)             (None, 222, 222, 32)      896       \n",
      "                                                                 \n",
      " max_pooling2d (MaxPooling2D  (None, 111, 111, 32)     0         \n",
      " )                                                               \n",
      "                                                                 \n",
      " conv2d_1 (Conv2D)           (None, 109, 109, 64)      18496     \n",
      "                                                                 \n",
      " max_pooling2d_1 (MaxPooling  (None, 54, 54, 64)       0         \n",
      " 2D)                                                             \n",
      "                                                                 \n",
      " conv2d_2 (Conv2D)           (None, 52, 52, 64)        36928     \n",
      "                                                                 \n",
      " max_pooling2d_2 (MaxPooling  (None, 26, 26, 64)       0         \n",
      " 2D)                                                             \n",
      "                                                                 \n",
      " conv2d_3 (Conv2D)           (None, 24, 24, 64)        36928     \n",
      "                                                                 \n",
      " max_pooling2d_3 (MaxPooling  (None, 12, 12, 64)       0         \n",
      " 2D)                                                             \n",
      "                                                                 \n",
      " conv2d_4 (Conv2D)           (None, 10, 10, 64)        36928     \n",
      "                                                                 \n",
      " max_pooling2d_4 (MaxPooling  (None, 5, 5, 64)         0         \n",
      " 2D)                                                             \n",
      "                                                                 \n",
      " conv2d_5 (Conv2D)           (None, 3, 3, 64)          36928     \n",
      "                                                                 \n",
      " max_pooling2d_5 (MaxPooling  (None, 1, 1, 64)         0         \n",
      " 2D)                                                             \n",
      "                                                                 \n",
      " flatten (Flatten)           (None, 64)                0         \n",
      "                                                                 \n",
      " dense (Dense)               (None, 64)                4160      \n",
      "                                                                 \n",
      " dense_1 (Dense)             (None, 3)                 195       \n",
      "                                                                 \n",
      "=================================================================\n",
      "Total params: 171,459\n",
      "Trainable params: 171,459\n",
      "Non-trainable params: 0\n",
      "_________________________________________________________________\n"
     ]
    }
   ],
   "source": [
    "model.summary()"
   ]
  },
  {
   "cell_type": "code",
   "execution_count": 12,
   "id": "4d2b3ad2-1b20-471e-8cfe-210c287cafec",
   "metadata": {},
   "outputs": [],
   "source": [
    "model.compile(\n",
    "    optimizer='adam',\n",
    "    loss=tf.keras.losses.SparseCategoricalCrossentropy(from_logits=False),\n",
    "    metrics=['accuracy']\n",
    ")"
   ]
  },
  {
   "cell_type": "code",
   "execution_count": 13,
   "id": "01975f26-af48-4205-b391-ee413b9e0be6",
   "metadata": {},
   "outputs": [
    {
     "name": "stdout",
     "output_type": "stream",
     "text": [
      "Epoch 1/30\n",
      "31/31 - 33s - loss: 1.0341 - accuracy: 0.4218 - val_loss: 1.0211 - val_accuracy: 0.4390 - 33s/epoch - 1s/step\n",
      "Epoch 2/30\n",
      "31/31 - 31s - loss: 0.9867 - accuracy: 0.4309 - val_loss: 0.9572 - val_accuracy: 0.4472 - 31s/epoch - 1s/step\n",
      "Epoch 3/30\n",
      "31/31 - 31s - loss: 0.9341 - accuracy: 0.4823 - val_loss: 0.9346 - val_accuracy: 0.4553 - 31s/epoch - 1s/step\n",
      "Epoch 4/30\n",
      "31/31 - 31s - loss: 0.9019 - accuracy: 0.5025 - val_loss: 0.9051 - val_accuracy: 0.5691 - 31s/epoch - 993ms/step\n",
      "Epoch 5/30\n",
      "31/31 - 32s - loss: 0.8802 - accuracy: 0.5277 - val_loss: 0.9325 - val_accuracy: 0.5528 - 32s/epoch - 1s/step\n",
      "Epoch 6/30\n",
      "31/31 - 33s - loss: 0.8360 - accuracy: 0.5923 - val_loss: 0.8823 - val_accuracy: 0.5854 - 33s/epoch - 1s/step\n",
      "Epoch 7/30\n",
      "31/31 - 32s - loss: 0.8434 - accuracy: 0.5832 - val_loss: 0.9041 - val_accuracy: 0.5366 - 32s/epoch - 1s/step\n",
      "Epoch 8/30\n",
      "31/31 - 33s - loss: 0.8213 - accuracy: 0.6024 - val_loss: 0.8516 - val_accuracy: 0.6016 - 33s/epoch - 1s/step\n",
      "Epoch 9/30\n",
      "31/31 - 33s - loss: 0.8330 - accuracy: 0.5954 - val_loss: 0.8583 - val_accuracy: 0.6585 - 33s/epoch - 1s/step\n",
      "Epoch 10/30\n",
      "31/31 - 32s - loss: 0.8929 - accuracy: 0.5510 - val_loss: 0.8786 - val_accuracy: 0.5610 - 32s/epoch - 1s/step\n",
      "Epoch 11/30\n",
      "31/31 - 32s - loss: 0.8241 - accuracy: 0.5954 - val_loss: 0.8428 - val_accuracy: 0.5772 - 32s/epoch - 1s/step\n",
      "Epoch 12/30\n",
      "31/31 - 31s - loss: 0.7935 - accuracy: 0.6216 - val_loss: 0.8076 - val_accuracy: 0.6585 - 31s/epoch - 1s/step\n",
      "Epoch 13/30\n",
      "31/31 - 33s - loss: 0.7832 - accuracy: 0.6145 - val_loss: 0.8141 - val_accuracy: 0.6341 - 33s/epoch - 1s/step\n",
      "Epoch 14/30\n",
      "31/31 - 31s - loss: 0.7719 - accuracy: 0.6448 - val_loss: 0.8554 - val_accuracy: 0.5610 - 31s/epoch - 1s/step\n",
      "Epoch 15/30\n",
      "31/31 - 31s - loss: 0.7501 - accuracy: 0.6579 - val_loss: 0.8382 - val_accuracy: 0.6341 - 31s/epoch - 1s/step\n",
      "Epoch 16/30\n",
      "31/31 - 32s - loss: 0.7745 - accuracy: 0.6609 - val_loss: 0.8905 - val_accuracy: 0.5854 - 32s/epoch - 1s/step\n",
      "Epoch 17/30\n",
      "31/31 - 32s - loss: 0.7573 - accuracy: 0.6337 - val_loss: 0.8521 - val_accuracy: 0.6098 - 32s/epoch - 1s/step\n",
      "Epoch 18/30\n",
      "31/31 - 31s - loss: 0.7222 - accuracy: 0.6569 - val_loss: 0.7727 - val_accuracy: 0.6748 - 31s/epoch - 1s/step\n",
      "Epoch 19/30\n",
      "31/31 - 31s - loss: 0.7263 - accuracy: 0.6539 - val_loss: 0.7945 - val_accuracy: 0.6341 - 31s/epoch - 1s/step\n",
      "Epoch 20/30\n",
      "31/31 - 32s - loss: 0.7434 - accuracy: 0.6549 - val_loss: 0.8868 - val_accuracy: 0.5691 - 32s/epoch - 1s/step\n",
      "Epoch 21/30\n",
      "31/31 - 33s - loss: 0.7116 - accuracy: 0.6902 - val_loss: 0.7840 - val_accuracy: 0.6585 - 33s/epoch - 1s/step\n",
      "Epoch 22/30\n",
      "31/31 - 32s - loss: 0.7174 - accuracy: 0.6589 - val_loss: 0.8051 - val_accuracy: 0.6341 - 32s/epoch - 1s/step\n",
      "Epoch 23/30\n",
      "31/31 - 31s - loss: 0.6922 - accuracy: 0.6892 - val_loss: 0.7877 - val_accuracy: 0.6260 - 31s/epoch - 1s/step\n",
      "Epoch 24/30\n",
      "31/31 - 31s - loss: 0.6595 - accuracy: 0.7013 - val_loss: 0.7692 - val_accuracy: 0.6423 - 31s/epoch - 1s/step\n",
      "Epoch 25/30\n",
      "31/31 - 31s - loss: 0.6436 - accuracy: 0.7094 - val_loss: 0.9037 - val_accuracy: 0.5854 - 31s/epoch - 1s/step\n",
      "Epoch 26/30\n",
      "31/31 - 31s - loss: 0.6984 - accuracy: 0.6872 - val_loss: 0.7809 - val_accuracy: 0.6423 - 31s/epoch - 1s/step\n",
      "Epoch 27/30\n",
      "31/31 - 31s - loss: 0.6314 - accuracy: 0.7164 - val_loss: 0.7569 - val_accuracy: 0.6423 - 31s/epoch - 1s/step\n",
      "Epoch 28/30\n",
      "31/31 - 31s - loss: 0.6610 - accuracy: 0.6983 - val_loss: 0.8095 - val_accuracy: 0.6341 - 31s/epoch - 1s/step\n",
      "Epoch 29/30\n",
      "31/31 - 31s - loss: 0.6302 - accuracy: 0.7205 - val_loss: 0.7431 - val_accuracy: 0.6829 - 31s/epoch - 1s/step\n",
      "Epoch 30/30\n",
      "31/31 - 31s - loss: 0.6130 - accuracy: 0.7245 - val_loss: 0.7563 - val_accuracy: 0.6585 - 31s/epoch - 1s/step\n"
     ]
    }
   ],
   "source": [
    "history = model.fit(\n",
    "    train_generator,\n",
    "    #steps_per_epoch=47,\n",
    "    batch_size=32,\n",
    "    validation_data=validation_generator,\n",
    "    #validation_steps=6,\n",
    "    verbose=2,\n",
    "    epochs=30,\n",
    ")"
   ]
  },
  {
   "cell_type": "code",
   "execution_count": 14,
   "id": "cac6653b-9ff9-4f6e-b03b-13f95d8f2f56",
   "metadata": {},
   "outputs": [
    {
     "name": "stdout",
     "output_type": "stream",
     "text": [
      "4/4 [==============================] - 2s 586ms/step - loss: 0.9251 - accuracy: 0.6190\n"
     ]
    }
   ],
   "source": [
    "scores = model.evaluate(test_generator)"
   ]
  },
  {
   "cell_type": "code",
   "execution_count": 15,
   "id": "be1d1fe4-cb06-41c5-b318-f9461ad690c9",
   "metadata": {},
   "outputs": [
    {
     "data": {
      "text/plain": [
       "[0.9250906109809875, 0.6190476417541504]"
      ]
     },
     "execution_count": 15,
     "metadata": {},
     "output_type": "execute_result"
    }
   ],
   "source": [
    "scores"
   ]
  },
  {
   "cell_type": "code",
   "execution_count": 20,
   "id": "30cc98a1-f62d-4c2d-b95a-dbbe14930c41",
   "metadata": {},
   "outputs": [
    {
     "data": {
      "text/plain": [
       "dict_keys(['loss', 'accuracy', 'val_loss', 'val_accuracy'])"
      ]
     },
     "execution_count": 20,
     "metadata": {},
     "output_type": "execute_result"
    }
   ],
   "source": [
    "history.history.keys()"
   ]
  },
  {
   "cell_type": "code",
   "execution_count": 21,
   "id": "ce2b2cfe-adda-4608-86ba-9cf9e4f5c3f7",
   "metadata": {},
   "outputs": [
    {
     "data": {
      "text/plain": [
       "[1.0341079235076904,\n",
       " 0.9867124557495117,\n",
       " 0.9340775609016418,\n",
       " 0.9018927216529846,\n",
       " 0.8802231550216675]"
      ]
     },
     "execution_count": 21,
     "metadata": {},
     "output_type": "execute_result"
    }
   ],
   "source": [
    "history.history['loss'][:5] # show loss for first 5 epochs"
   ]
  },
  {
   "cell_type": "code",
   "execution_count": null,
   "id": "ec298a6e-0aaa-4afa-9605-c237d3029f16",
   "metadata": {},
   "outputs": [],
   "source": []
  },
  {
   "cell_type": "code",
   "execution_count": null,
   "id": "23f80981-b744-4273-b08c-2a81f7e23498",
   "metadata": {},
   "outputs": [],
   "source": []
  },
  {
   "cell_type": "code",
   "execution_count": 16,
   "id": "d18b7bd5-6a29-451d-8b59-7e3cf4e4c05e",
   "metadata": {},
   "outputs": [],
   "source": [
    "acc = history.history['accuracy']\n",
    "val_acc = history.history['val_accuracy']\n",
    "\n",
    "loss = history.history['loss']\n",
    "val_loss = history.history['val_loss']"
   ]
  },
  {
   "cell_type": "code",
   "execution_count": 17,
   "id": "e6f086c6-1f86-4ea6-9569-660473b2fc6e",
   "metadata": {},
   "outputs": [
    {
     "data": {
      "image/png": "[encoded data removed]",
      "text/plain": [
       "<Figure size 576x576 with 2 Axes>"
      ]
     },
     "metadata": {
      "needs_background": "light"
     },
     "output_type": "display_data"
    }
   ],
   "source": [
    "EPOCHS = 30\n",
    "\n",
    "plt.figure(figsize=(8, 8))\n",
    "plt.subplot(1, 2, 1)\n",
    "plt.plot(range(EPOCHS), acc, label='Training Accuracy')\n",
    "plt.plot(range(EPOCHS), val_acc, label='Validation Accuracy')\n",
    "plt.legend(loc='lower right')\n",
    "plt.title('Training and Validation Accuracy')\n",
    "\n",
    "plt.subplot(1, 2, 2)\n",
    "plt.plot(range(EPOCHS), loss, label='Training Loss')\n",
    "plt.plot(range(EPOCHS), val_loss, label='Validation Loss')\n",
    "plt.legend(loc='upper right')\n",
    "plt.title('Training and Validation Loss')\n",
    "plt.show()"
   ]
  },
  {
   "cell_type": "code",
   "execution_count": 7,
   "id": "5edbf0e7-171b-4fe6-9fe6-1e19499a023d",
   "metadata": {},
   "outputs": [],
   "source": [
    "def predict(model, img):\n",
    "    img_array = tf.keras.preprocessing.image.img_to_array(images[i])\n",
    "    img_array = tf.expand_dims(img_array, 0)\n",
    "\n",
    "    predictions = model.predict(img_array)\n",
    "\n",
    "    predicted_class = class_names[np.argmax(predictions[0])]\n",
    "    confidence = round(100 * (np.max(predictions[0])), 2)\n",
    "    return predicted_class, confidence"
   ]
  },
  {
   "cell_type": "code",
   "execution_count": 8,
   "id": "35a4a9b7-8150-41f7-805a-c0b3c7e30ba8",
   "metadata": {},
   "outputs": [
    {
     "ename": "NameError",
     "evalue": "name 'test_generator' is not defined",
     "output_type": "error",
     "traceback": [
      "\u001b[1;31m---------------------------------------------------------------------------\u001b[0m",
      "\u001b[1;31mNameError\u001b[0m                                 Traceback (most recent call last)",
      "Input \u001b[1;32mIn [8]\u001b[0m, in \u001b[0;36m<cell line: 3>\u001b[1;34m()\u001b[0m\n\u001b[0;32m      1\u001b[0m \u001b[38;5;28;01mimport\u001b[39;00m \u001b[38;5;21;01mmatplotlib\u001b[39;00m\u001b[38;5;21;01m.\u001b[39;00m\u001b[38;5;21;01mpyplot\u001b[39;00m \u001b[38;5;28;01mas\u001b[39;00m \u001b[38;5;21;01mplt\u001b[39;00m\n\u001b[0;32m      2\u001b[0m plt\u001b[38;5;241m.\u001b[39mfigure(figsize\u001b[38;5;241m=\u001b[39m(\u001b[38;5;241m15\u001b[39m, \u001b[38;5;241m15\u001b[39m))\n\u001b[1;32m----> 3\u001b[0m \u001b[38;5;28;01mfor\u001b[39;00m images, labels \u001b[38;5;129;01min\u001b[39;00m \u001b[43mtest_generator\u001b[49m:\n\u001b[0;32m      4\u001b[0m     \u001b[38;5;28;01mfor\u001b[39;00m i \u001b[38;5;129;01min\u001b[39;00m \u001b[38;5;28mrange\u001b[39m(\u001b[38;5;241m9\u001b[39m):\n\u001b[0;32m      5\u001b[0m         ax \u001b[38;5;241m=\u001b[39m plt\u001b[38;5;241m.\u001b[39msubplot(\u001b[38;5;241m3\u001b[39m, \u001b[38;5;241m3\u001b[39m, i \u001b[38;5;241m+\u001b[39m \u001b[38;5;241m1\u001b[39m)\n",
      "\u001b[1;31mNameError\u001b[0m: name 'test_generator' is not defined"
     ]
    },
    {
     "data": {
      "text/plain": [
       "<Figure size 1080x1080 with 0 Axes>"
      ]
     },
     "metadata": {},
     "output_type": "display_data"
    }
   ],
   "source": [
    "import matplotlib.pyplot as plt\n",
    "plt.figure(figsize=(15, 15))\n",
    "for images, labels in test_generator:\n",
    "    for i in range(9):\n",
    "        ax = plt.subplot(3, 3, i + 1)\n",
    "        plt.imshow(images[i])\n",
    "        \n",
    "        predicted_class, confidence = predict(model, images[i])\n",
    "        actual_class = class_names[int(labels[i])] \n",
    "        \n",
    "        plt.title(f\"Actual: {actual_class},\\n Predicted: {predicted_class}.\\n Confidence: {confidence}%\")\n",
    "        \n",
    "        plt.axis(\"off\")\n",
    "    break"
   ]
  },
  {
   "cell_type": "code",
   "execution_count": null,
   "id": "078e86b4-3b8e-4ce7-a08a-3d6f19cfc57e",
   "metadata": {},
   "outputs": [],
   "source": []
  }
 ],
 "metadata": {
  "kernelspec": {
   "display_name": "Python 3 (ipykernel)",
   "language": "python",
   "name": "python3"
  },
  "language_info": {
   "codemirror_mode": {
    "name": "ipython",
    "version": 3
   },
   "file_extension": ".py",
   "mimetype": "text/x-python",
   "name": "python",
   "nbconvert_exporter": "python",
   "pygments_lexer": "ipython3",
   "version": "3.9.12"
  }
 },
 "nbformat": 4,
 "nbformat_minor": 5
}
